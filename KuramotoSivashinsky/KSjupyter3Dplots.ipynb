{
 "cells": [
  {
   "cell_type": "code",
   "execution_count": 1,
   "metadata": {},
   "outputs": [],
   "source": [
    "import numpy as np\n",
    "import matplotlib.pyplot as plt\n",
    "import arviz as az\n",
    "\n",
    "from matplotlib.pyplot import cm\n",
    "from scipy.signal import find_peaks"
   ]
  },
  {
   "cell_type": "code",
   "execution_count": 2,
   "metadata": {},
   "outputs": [],
   "source": [
    "# Set the style of the plots to a more beautiful format\n",
    "az.style.use('arviz-darkgrid')"
   ]
  },
  {
   "cell_type": "code",
   "execution_count": 3,
   "metadata": {},
   "outputs": [
    {
     "name": "stdout",
     "output_type": "stream",
     "text": [
      "1\n",
      "2\n",
      "3\n"
     ]
    }
   ],
   "source": [
    "counter=1\n",
    "#EEE = []\n",
    "for nu in [0.0305,0.0301,0.03,0.02998,0.029971,0.0299695]:\n",
    "    \n",
    "    L = 2 * np.pi\n",
    "    nx = 8192\n",
    "\n",
    "    t0 = 0 \n",
    "    tN = 8\n",
    "    dt = 0.0005\n",
    "    nt = int((tN - t0) / dt)\n",
    "\n",
    "    # wave number mesh\n",
    "    k = np.arange(-nx/2, nx/2, 1)\n",
    "\n",
    "    t = np.linspace(start=t0, stop=tN, num=nt)\n",
    "    x = np.linspace(start=0, stop=L, num=nx)\n",
    "\n",
    "    # solution mesh in real space\n",
    "    u = np.ones((nx, nt))\n",
    "    # solution mesh in Fourier space\n",
    "    u_hat = np.ones((nx, nt), dtype=complex)\n",
    "\n",
    "    u_hat2 = np.ones((nx, nt), dtype=complex)\n",
    "\n",
    "    # initial condition \n",
    "    #u0 = np.cos((2 * np.pi * x) / L) + 0.1 * np.cos((4 * np.pi * x) / L)\n",
    "    u0 = - np.sin(x)\n",
    "\n",
    "    # Fourier transform of initial condition\n",
    "    u0_hat = (1 / nx) * np.fft.fftshift(np.fft.fft(u0))\n",
    "\n",
    "    u0_hat2 = (1 / nx) * np.fft.fftshift(np.fft.fft(u0**2))\n",
    "\n",
    "    # set initial condition in real and Fourier mesh\n",
    "    u[:,0] = u0\n",
    "    u_hat[:,0] = u0_hat\n",
    "\n",
    "    u_hat2[:,0] = u0_hat2\n",
    "\n",
    "    # Fourier Transform of the linear operator\n",
    "    FL = (((2 * np.pi) / L) * k) ** 2 - nu * (((2 * np.pi) / L) * k) ** 4\n",
    "    # Fourier Transform of the non-linear operator\n",
    "    FN = - (1 / 2) * ((1j) * ((2 * np.pi) / L) * k)\n",
    "\n",
    "    # resolve EDP in Fourier space\n",
    "    for j in range(0,nt-1):\n",
    "        uhat_current = u_hat[:,j]\n",
    "        uhat_current2 = u_hat2[:,j]\n",
    "        if j == 0:\n",
    "            uhat_last = u_hat[:,0]\n",
    "            uhat_last2 = u_hat2[:,0]\n",
    "        else:\n",
    "            uhat_last = u_hat[:,j-1]\n",
    "            uhat_last2 = u_hat2[:,j-1]\n",
    "\n",
    "        # compute solution in Fourier space through a finite difference method\n",
    "        # Cranck-Nicholson + Adam \n",
    "        u_hat[:,j+1] = (1 / (1 - (dt / 2) * FL)) * ( (1 + (dt / 2) * FL) * uhat_current + ( ((3 / 2) * FN) * (uhat_current2) - ((1 / 2) * FN) * (uhat_last2) ) * dt )\n",
    "        # go back in real space\n",
    "        u[:,j+1] = np.real(nx * np.fft.ifft(np.fft.ifftshift(u_hat[:,j+1])))\n",
    "        u_hat2[:,j+1] = (1 / nx) * np.fft.fftshift(np.fft.fft(u[:,j+1]**2))\n",
    "\n",
    "\n",
    "    # plot the result\n",
    "    fig = plt.figure(figsize=(20,10))\n",
    "\n",
    "    ax = fig.add_subplot(1, 2, 1)\n",
    "\n",
    "    xx, tt = np.meshgrid(x, t)\n",
    "    levels = np.arange(-3, 3, 0.01)\n",
    "    cs = ax.contourf(xx, tt, u.T, cmap=cm.jet)\n",
    "    #ax.colorbar(cs)\n",
    "\n",
    "    ax.set_xlabel(\"x\")\n",
    "    ax.set_ylabel(\"t\")\n",
    "    #ax.set_title(f'L = {np.round(L,4)} ;' +r'$\\nu$' + f'={nu}')\n",
    "\n",
    "    # Second subplot\n",
    "    ax = fig.add_subplot(1, 2, 2, projection='3d')\n",
    "\n",
    "    ax.plot_surface(xx, tt, u.T,cmap='viridis', edgecolor='none')\n",
    "    ax.set_xlabel('x')\n",
    "    ax.set_ylabel('t')\n",
    "    ax.set_zlabel('u');\n",
    "    ax.set_title(r'$\\nu$'+f'={nu}')\n",
    "\n",
    "\n",
    "    plt.savefig(f'KS3Dplots_{counter}.png')\n",
    "    print(counter)\n",
    "    counter=counter+1\n",
    "plt.show()\n"
   ]
  },
  {
   "cell_type": "code",
   "execution_count": null,
   "metadata": {},
   "outputs": [],
   "source": []
  }
 ],
 "metadata": {
  "interpreter": {
   "hash": "916dbcbb3f70747c44a77c7bcd40155683ae19c65e1c03b4aa3499c5328201f1"
  },
  "kernelspec": {
   "display_name": "Python 3.8.10 64-bit",
   "language": "python",
   "name": "python3"
  },
  "language_info": {
   "codemirror_mode": {
    "name": "ipython",
    "version": 3
   },
   "file_extension": ".py",
   "mimetype": "text/x-python",
   "name": "python",
   "nbconvert_exporter": "python",
   "pygments_lexer": "ipython3",
   "version": "3.8.10"
  },
  "orig_nbformat": 4
 },
 "nbformat": 4,
 "nbformat_minor": 2
}

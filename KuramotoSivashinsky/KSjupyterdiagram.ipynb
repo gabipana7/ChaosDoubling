{
 "cells": [
  {
   "cell_type": "code",
   "execution_count": 9,
   "metadata": {},
   "outputs": [],
   "source": [
    "import numpy as np\n",
    "import matplotlib.pyplot as plt\n",
    "import arviz as az\n",
    "import csv\n",
    "\n",
    "from matplotlib.pyplot import cm\n",
    "#from scipy.signal import find_peaks\n",
    "from scipy import signal"
   ]
  },
  {
   "cell_type": "code",
   "execution_count": 10,
   "metadata": {},
   "outputs": [],
   "source": [
    "# Set the style of the plots to a more beautiful format\n",
    "az.style.use('arviz-darkgrid')"
   ]
  },
  {
   "cell_type": "code",
   "execution_count": 11,
   "metadata": {},
   "outputs": [],
   "source": [
    "EEE = []\n",
    "for nu in np.arange(0.02985,0.0305,0.00001):\n",
    "    L = 2 * np.pi\n",
    "    nx = 8192\n",
    "\n",
    "    t0 = 0 \n",
    "    tN = 7\n",
    "    dt = 0.0005\n",
    "    nt = int((tN - t0) / dt)\n",
    "\n",
    "    # wave number mesh\n",
    "    k = np.arange(-nx/2, nx/2, 1)\n",
    "\n",
    "    t = np.linspace(start=t0, stop=tN, num=nt)\n",
    "    x = np.linspace(start=0, stop=L, num=nx)\n",
    "\n",
    "    # solution mesh in real space\n",
    "    u = np.ones((nx, nt))\n",
    "    # solution mesh in Fourier space\n",
    "    u_hat = np.ones((nx, nt), dtype=complex)\n",
    "\n",
    "    u_hat2 = np.ones((nx, nt), dtype=complex)\n",
    "\n",
    "    # initial condition \n",
    "    #u0 = np.cos((2 * np.pi * x) / L) + 0.1 * np.cos((4 * np.pi * x) / L)\n",
    "    u0 = - np.sin(x)\n",
    "\n",
    "    # Fourier transform of initial condition\n",
    "    u0_hat = (1 / nx) * np.fft.fftshift(np.fft.fft(u0))\n",
    "\n",
    "    u0_hat2 = (1 / nx) * np.fft.fftshift(np.fft.fft(u0**2))\n",
    "\n",
    "    # set initial condition in real and Fourier mesh\n",
    "    u[:,0] = u0\n",
    "    u_hat[:,0] = u0_hat\n",
    "\n",
    "    u_hat2[:,0] = u0_hat2\n",
    "\n",
    "    # Fourier Transform of the linear operator\n",
    "    FL = (((2 * np.pi) / L) * k) ** 2 - nu * (((2 * np.pi) / L) * k) ** 4\n",
    "    # Fourier Transform of the non-linear operator\n",
    "    FN = - (1 / 2) * ((1j) * ((2 * np.pi) / L) * k)\n",
    "\n",
    "    # resolve EDP in Fourier space\n",
    "    for j in range(0,nt-1):\n",
    "        uhat_current = u_hat[:,j]\n",
    "        uhat_current2 = u_hat2[:,j]\n",
    "        if j == 0:\n",
    "            uhat_last = u_hat[:,0]\n",
    "            uhat_last2 = u_hat2[:,0]\n",
    "        else:\n",
    "            uhat_last = u_hat[:,j-1]\n",
    "            uhat_last2 = u_hat2[:,j-1]\n",
    "\n",
    "        # compute solution in Fourier space through a finite difference method\n",
    "        # Cranck-Nicholson + Adam \n",
    "        u_hat[:,j+1] = (1 / (1 - (dt / 2) * FL)) * ( (1 + (dt / 2) * FL) * uhat_current + ( ((3 / 2) * FN) * (uhat_current2) - ((1 / 2) * FN) * (uhat_last2) ) * dt )\n",
    "        # go back in real space\n",
    "        u[:,j+1] = np.real(nx * np.fft.ifft(np.fft.ifftshift(u_hat[:,j+1])))\n",
    "        u_hat2[:,j+1] = (1 / nx) * np.fft.fftshift(np.fft.fft(u[:,j+1]**2))\n",
    "\n",
    "\n",
    "    dx = L / nx\n",
    "    E = []\n",
    "    Ederiv = [0]\n",
    "\n",
    "    for j in range(0,nt):\n",
    "        E.append(np.sqrt(sum(u[:,j]**2 * dx)))\n",
    "\n",
    "    #E = [100-element for element in E]\n",
    "        \n",
    "    Ederiv[0]= E[0]\n",
    "    for j in range(1,nt-1):\n",
    "        Ederiv.append((E[j+1]-E[j])/dt)\n",
    "\n",
    "\n",
    "    transit = round(nt/2)\n",
    "    E=E[transit:nt-1]\n",
    "    Ederiv=Ederiv[transit:]\n",
    "    t = t[transit:nt-1]\n",
    "\n",
    "\n",
    "    #peaks, _ = find_peaks(E, height=0)\n",
    "    E = np.array(E)\n",
    "    peaks = signal.argrelextrema(E, np.less)\n",
    "    EE = [E[element] for element in peaks]\n",
    "    EEE.append((EE,nu)) "
   ]
  },
  {
   "cell_type": "code",
   "execution_count": 26,
   "metadata": {},
   "outputs": [],
   "source": [
    "EEE = [element for element in EEE[0][0][0]]"
   ]
  },
  {
   "cell_type": "code",
   "execution_count": 27,
   "metadata": {},
   "outputs": [
    {
     "data": {
      "text/plain": [
       "[15.778319931952435,\n",
       " 16.026820518924644,\n",
       " 15.547729656330826,\n",
       " 16.49243295925037,\n",
       " 14.757694515027765,\n",
       " 18.05976438694219,\n",
       " 14.65706393309214]"
      ]
     },
     "execution_count": 27,
     "metadata": {},
     "output_type": "execute_result"
    }
   ],
   "source": [
    "EEE"
   ]
  },
  {
   "cell_type": "code",
   "execution_count": 23,
   "metadata": {},
   "outputs": [
    {
     "data": {
      "text/plain": [
       "array([0.02985, 0.02985, 0.02985, 0.02985, 0.02985, 0.02985, 0.02985])"
      ]
     },
     "execution_count": 23,
     "metadata": {},
     "output_type": "execute_result"
    }
   ],
   "source": [
    "np.ones(len(EEE[0][0][0]))*EEE[0][1]"
   ]
  },
  {
   "cell_type": "code",
   "execution_count": 24,
   "metadata": {},
   "outputs": [
    {
     "data": {
      "image/png": "[encoded data removed]",
      "text/plain": [
       "<Figure size 720x480 with 1 Axes>"
      ]
     },
     "metadata": {},
     "output_type": "display_data"
    }
   ],
   "source": [
    "for i in range(len(EEE)):\n",
    "    plt.scatter(np.ones(len(EEE[i][0][0]))*EEE[i][1],EEE[i][0],color='blue',s=10)\n",
    "\n",
    "plt.xlabel(r'$\\nu$')\n",
    "plt.ylabel('u*')\n",
    "plt.savefig('KSbifurcation9.png')"
   ]
  },
  {
   "cell_type": "code",
   "execution_count": 13,
   "metadata": {},
   "outputs": [],
   "source": [
    "with open('results3', 'w') as f:\n",
    "    # using csv.writer method from CSV package\n",
    "    write = csv.writer(f)\n",
    "    write.writerows(EEE)"
   ]
  },
  {
   "cell_type": "code",
   "execution_count": null,
   "metadata": {},
   "outputs": [],
   "source": []
  }
 ],
 "metadata": {
  "interpreter": {
   "hash": "916dbcbb3f70747c44a77c7bcd40155683ae19c65e1c03b4aa3499c5328201f1"
  },
  "kernelspec": {
   "display_name": "Python 3.8.10 64-bit",
   "language": "python",
   "name": "python3"
  },
  "language_info": {
   "codemirror_mode": {
    "name": "ipython",
    "version": 3
   },
   "file_extension": ".py",
   "mimetype": "text/x-python",
   "name": "python",
   "nbconvert_exporter": "python",
   "pygments_lexer": "ipython3",
   "version": "3.8.10"
  },
  "orig_nbformat": 4
 },
 "nbformat": 4,
 "nbformat_minor": 2
}
